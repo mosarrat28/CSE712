{
  "nbformat": 4,
  "nbformat_minor": 0,
  "metadata": {
    "colab": {
      "name": "week4_seq2seq_m_rumman.ipynb",
      "provenance": [],
      "collapsed_sections": [],
      "toc_visible": true
    },
    "language_info": {
      "codemirror_mode": {
        "name": "ipython",
        "version": 3
      },
      "file_extension": ".py",
      "mimetype": "text/x-python",
      "name": "python",
      "nbconvert_exporter": "python",
      "pygments_lexer": "ipython3",
      "version": "3.4.3"
    },
    "kernelspec": {
      "name": "python3",
      "display_name": "Python 3"
    },
    "accelerator": "TPU"
  },
  "cells": [
    {
      "cell_type": "markdown",
      "metadata": {
        "id": "CDZ783z591f7"
      },
      "source": [
        "# Learn to calculate with seq2seq model\n",
        "\n",
        "In this assignment, you will learn how to use neural networks to solve sequence-to-sequence prediction tasks. Seq2Seq models are very popular these days because they achieve great results in Machine Translation, Text Summarization, Conversational Modeling and more.\n",
        "\n",
        "Using sequence-to-sequence modeling you are going to build a calculator for evaluating arithmetic expressions, by taking an equation as an input to the neural network and producing an answer as it's output.\n",
        "\n",
        "The resulting solution for this problem will be based on state-of-the-art approaches for sequence-to-sequence learning and you should be able to easily adapt it to solve other tasks. However, if you want to train your own machine translation system or intellectual chat bot, it would be useful to have access to compute resources like GPU, and be patient, because training of such systems is usually time consuming. \n",
        "\n",
        "### Libraries\n",
        "\n",
        "For this task you will need the following libraries:\n",
        " - [TensorFlow](https://www.tensorflow.org) — an open-source software library for Machine Intelligence.\n",
        " - [scikit-learn](http://scikit-learn.org/stable/index.html) — a tool for data mining and data analysis.\n",
        " \n",
        "If you have never worked with TensorFlow, you will probably want to read some tutorials during your work on this assignment, e.g. [Neural Machine Translation](https://www.tensorflow.org/tutorials/seq2seq) tutorial deals with very similar task and can explain some concepts to you. "
      ]
    },
    {
      "cell_type": "markdown",
      "metadata": {
        "id": "yw_0gduy91gB"
      },
      "source": [
        "### Data\n",
        "\n",
        "One benefit of this task is that you don't need to download any data — you will generate it on your own! We will use two operators (addition and subtraction) and work with positive integer numbers in some range. Here are examples of correct inputs and outputs:\n",
        "\n",
        "    Input: '1+2'\n",
        "    Output: '3'\n",
        "    \n",
        "    Input: '0-99'\n",
        "    Output: '-99'\n",
        "\n",
        "*Note, that there are no spaces between operators and operands.*\n",
        "\n",
        "\n",
        "Now you need to implement the function *generate_equations*, which will be used to generate the data."
      ]
    },
    {
      "cell_type": "code",
      "metadata": {
        "id": "B13sbtOBOIKe",
        "colab": {
          "base_uri": "https://localhost:8080/"
        },
        "outputId": "47ed314c-55ef-4bfb-9c16-c96f07b7dfb9"
      },
      "source": [
        "! wget https://raw.githubusercontent.com/hse-aml/natural-language-processing/master/setup_google_colab.py -O setup_google_colab.py\n",
        "import setup_google_colab\n",
        "setup_google_colab.setup_week4()"
      ],
      "execution_count": 1,
      "outputs": [
        {
          "output_type": "stream",
          "text": [
            "--2021-05-26 09:38:27--  https://raw.githubusercontent.com/hse-aml/natural-language-processing/master/setup_google_colab.py\n",
            "Resolving raw.githubusercontent.com (raw.githubusercontent.com)... 185.199.110.133, 185.199.108.133, 185.199.111.133, ...\n",
            "Connecting to raw.githubusercontent.com (raw.githubusercontent.com)|185.199.110.133|:443... connected.\n",
            "HTTP request sent, awaiting response... 200 OK\n",
            "Length: 1939 (1.9K) [text/plain]\n",
            "Saving to: ‘setup_google_colab.py’\n",
            "\n",
            "setup_google_colab. 100%[===================>]   1.89K  --.-KB/s    in 0s      \n",
            "\n",
            "2021-05-26 09:38:27 (20.8 MB/s) - ‘setup_google_colab.py’ saved [1939/1939]\n",
            "\n"
          ],
          "name": "stdout"
        }
      ]
    },
    {
      "cell_type": "code",
      "metadata": {
        "id": "-NfFtDi391gF"
      },
      "source": [
        "import random"
      ],
      "execution_count": 2,
      "outputs": []
    },
    {
      "cell_type": "code",
      "metadata": {
        "id": "v59cwQKt91gO"
      },
      "source": [
        "def generate_equations(allowed_operators, dataset_size, min_value, max_value):\n",
        "    \"\"\"Generates pairs of equations and solutions to them.\n",
        "    \n",
        "       Each equation has a form of two integers with an operator in between.\n",
        "       Each solution is an integer with the result of the operaion.\n",
        "    \n",
        "        allowed_operators: list of strings, allowed operators.\n",
        "        dataset_size: an integer, number of equations to be generated.\n",
        "        min_value: an integer, min value of each operand.\n",
        "        max_value: an integer, max value of each operand.\n",
        "\n",
        "        result: a list of tuples of strings (equation, solution).\n",
        "    \"\"\"\n",
        "    sample = []\n",
        "    for _ in range(dataset_size):\n",
        "        ######################################\n",
        "        ######### YOUR CODE HERE #############\n",
        "        ######################################\n",
        "        a1 = random.randint(a = min_value, b = max_value)\n",
        "        a2 = random.randint(a = min_value, b = max_value)\n",
        "        opr = random.choice(allowed_operators)\n",
        "        equ = str(a1)+str(opr)+str(a2)\n",
        "        res = str(eval(equ))\n",
        "        sample.append((equ,res))\n",
        "        \n",
        "    return sample"
      ],
      "execution_count": 3,
      "outputs": []
    },
    {
      "cell_type": "markdown",
      "metadata": {
        "id": "SFyRwCJG91gX"
      },
      "source": [
        "To check the correctness of your implementation, use *test_generate_equations* function:"
      ]
    },
    {
      "cell_type": "code",
      "metadata": {
        "id": "6O2HKRfW91ga"
      },
      "source": [
        "def test_generate_equations():\n",
        "    allowed_operators = ['+', '-']\n",
        "    dataset_size = 10\n",
        "    for (input_, output_) in generate_equations(allowed_operators, dataset_size, 0, 100):\n",
        "        if not (type(input_) is str and type(output_) is str):\n",
        "            return \"Both parts should be strings.\"\n",
        "        if eval(input_) != int(output_):\n",
        "            return \"The (equation: {!r}, solution: {!r}) pair is incorrect.\".format(input_, output_)\n",
        "    return \"Tests passed.\""
      ],
      "execution_count": 4,
      "outputs": []
    },
    {
      "cell_type": "code",
      "metadata": {
        "id": "2Heh0hUj91go",
        "colab": {
          "base_uri": "https://localhost:8080/"
        },
        "outputId": "8caf1e74-bd92-4156-d10f-c57d94c287ee"
      },
      "source": [
        "print(test_generate_equations())"
      ],
      "execution_count": 5,
      "outputs": [
        {
          "output_type": "stream",
          "text": [
            "Tests passed.\n"
          ],
          "name": "stdout"
        }
      ]
    },
    {
      "cell_type": "markdown",
      "metadata": {
        "id": "Cn6azyYU91gu"
      },
      "source": [
        "Finally, we are ready to generate the train and test data for the neural network:"
      ]
    },
    {
      "cell_type": "code",
      "metadata": {
        "id": "BLMW0nMG91gw"
      },
      "source": [
        "from sklearn.model_selection import train_test_split"
      ],
      "execution_count": 6,
      "outputs": []
    },
    {
      "cell_type": "code",
      "metadata": {
        "id": "In5clcFC91g5"
      },
      "source": [
        "allowed_operators = ['+', '-']\n",
        "dataset_size = 100000\n",
        "data = generate_equations(allowed_operators, dataset_size, min_value=0, max_value=9999)\n",
        "\n",
        "train_set, test_set = train_test_split(data, test_size=0.2, random_state=42)"
      ],
      "execution_count": 7,
      "outputs": []
    },
    {
      "cell_type": "markdown",
      "metadata": {
        "id": "KxYNkv3t91hA"
      },
      "source": [
        "## Prepare data for the neural network\n",
        "\n",
        "The next stage of data preparation is creating mappings of the characters to their indices in some vocabulary. Since in our task we already know which symbols will appear in the inputs and outputs, generating the vocabulary is a simple step.\n",
        "\n",
        "#### How to create dictionaries for other task\n",
        "\n",
        "First of all, you need to understand what is the basic unit of the sequence in your task. In our case, we operate on symbols and the basic unit is a symbol. The number of symbols is small, so we don't need to think about filtering/normalization steps. However, in other tasks, the basic unit is often a word, and in this case the mapping would be *word $\\to$ integer*. The number of words might be huge, so it would be reasonable to filter them, for example, by frequency and leave only the frequent ones. Other strategies that your should consider are: data normalization (lowercasing, tokenization, how to consider punctuation marks), separate vocabulary for input and for output (e.g. for machine translation), some specifics of the task."
      ]
    },
    {
      "cell_type": "code",
      "metadata": {
        "id": "ZzFpIQtH91hC"
      },
      "source": [
        "word2id = {symbol:i for i, symbol in enumerate('#^$+-1234567890')}\n",
        "id2word = {i:symbol for symbol, i in word2id.items()}"
      ],
      "execution_count": 8,
      "outputs": []
    },
    {
      "cell_type": "markdown",
      "metadata": {
        "id": "r-SWR3Ni91hK"
      },
      "source": [
        "#### Special symbols"
      ]
    },
    {
      "cell_type": "code",
      "metadata": {
        "id": "FrAM22X991hL"
      },
      "source": [
        "start_symbol = '^'\n",
        "end_symbol = '$'\n",
        "padding_symbol = '#'"
      ],
      "execution_count": 9,
      "outputs": []
    },
    {
      "cell_type": "markdown",
      "metadata": {
        "id": "0rzVIUcR91hU"
      },
      "source": [
        "You could notice that we have added 3 special symbols: '^', '\\$' and '#':\n",
        "- '^' symbol will be passed to the network to indicate the beginning of the decoding procedure. We will discuss this one later in more details.\n",
        "- '\\$' symbol will be used to indicate the *end of a string*, both for input and output sequences. \n",
        "- '#' symbol will be used as a *padding* character to make lengths of all strings equal within one training batch.\n",
        "\n",
        "People have a bit different habits when it comes to special symbols in encoder-decoder networks, so don't get too much confused if you come across other variants in tutorials you read. "
      ]
    },
    {
      "cell_type": "markdown",
      "metadata": {
        "id": "14vohb5x91hW"
      },
      "source": [
        "#### Padding"
      ]
    },
    {
      "cell_type": "markdown",
      "metadata": {
        "id": "CUcplwnz91hZ"
      },
      "source": [
        "When vocabularies are ready, we need to be able to convert a sentence to a list of vocabulary word indices and back. At the same time, let's care about padding. We are going to preprocess each sequence from the input (and output ground truth) in such a way that:\n",
        "- it has a predefined length *padded_len*\n",
        "- it is probably cut off or padded with the *padding symbol* '#'\n",
        "- it *always* ends with the *end symbol* '$'\n",
        "\n",
        "We will treat the original characters of the sequence **and the end symbol** as the valid part of the input. We will store *the actual length* of the sequence, which includes the end symbol, but does not include the padding symbols. "
      ]
    },
    {
      "cell_type": "markdown",
      "metadata": {
        "id": "pImzbTIR91ha"
      },
      "source": [
        " Now you need to implement the function *sentence_to_ids* that does the described job. "
      ]
    },
    {
      "cell_type": "code",
      "metadata": {
        "id": "fT7G5m_w91hb"
      },
      "source": [
        "def sentence_to_ids(sentence, word2id, padded_len):\n",
        "    \"\"\" Converts a sequence of symbols to a padded sequence of their ids.\n",
        "    \n",
        "      sentence: a string, input/output sequence of symbols.\n",
        "      word2id: a dict, a mapping from original symbols to ids.\n",
        "      padded_len: an integer, a desirable length of the sequence.\n",
        "\n",
        "      result: a tuple of (a list of ids, an actual length of sentence).\n",
        "    \"\"\"\n",
        "    ######### YOUR CODE HERE #############\n",
        "    length = min(padded_len - 1, len(sentence))\n",
        "    sent_len =  length + 1 \n",
        "    ######### YOUR CODE HERE #############\n",
        "    ids = [word2id[word] for word in sentence] \n",
        "    ps = max(0, padded_len - len(ids) - 1)  # pad size\n",
        "    sent_ids = ids[:padded_len - 1] + [word2id[end_symbol]] + [word2id[padding_symbol]] * ps\n",
        "    \n",
        "    return sent_ids, sent_len"
      ],
      "execution_count": 10,
      "outputs": []
    },
    {
      "cell_type": "markdown",
      "metadata": {
        "id": "izJSv_jt91hf"
      },
      "source": [
        "Check that your implementation is correct:"
      ]
    },
    {
      "cell_type": "code",
      "metadata": {
        "id": "bZ_RYy0x91hg"
      },
      "source": [
        "def test_sentence_to_ids():\n",
        "    sentences = [(\"123+123\", 7), (\"123+123\", 8), (\"123+123\", 10)]\n",
        "    expected_output = [([5, 6, 7, 3, 5, 6, 2], 7), \n",
        "                       ([5, 6, 7, 3, 5, 6, 7, 2], 8), \n",
        "                       ([5, 6, 7, 3, 5, 6, 7, 2, 0, 0], 8)] \n",
        "    for (sentence, padded_len), (sentence_ids, expected_length) in zip(sentences, expected_output):\n",
        "        output, length = sentence_to_ids(sentence, word2id, padded_len)\n",
        "        if output != sentence_ids:\n",
        "            return(\"Convertion of '{}' for padded_len={} to {} is incorrect.\".format(\n",
        "                sentence, padded_len, output))\n",
        "        if length != expected_length:\n",
        "            return(\"Convertion of '{}' for padded_len={} has incorrect actual length {}.\".format(\n",
        "                sentence, padded_len, length))\n",
        "    return(\"Tests passed.\")"
      ],
      "execution_count": 11,
      "outputs": []
    },
    {
      "cell_type": "code",
      "metadata": {
        "id": "CHb-qVI891ho",
        "colab": {
          "base_uri": "https://localhost:8080/"
        },
        "outputId": "11fbd38a-c9d4-4740-fe38-fceb8d0c1efa"
      },
      "source": [
        "print(test_sentence_to_ids())"
      ],
      "execution_count": 12,
      "outputs": [
        {
          "output_type": "stream",
          "text": [
            "Tests passed.\n"
          ],
          "name": "stdout"
        }
      ]
    },
    {
      "cell_type": "markdown",
      "metadata": {
        "id": "P8Iy3SiV91hu"
      },
      "source": [
        "We also need to be able to get back from indices to symbols:"
      ]
    },
    {
      "cell_type": "code",
      "metadata": {
        "id": "25eaUt_G91hu"
      },
      "source": [
        "def ids_to_sentence(ids, id2word):\n",
        "    \"\"\" Converts a sequence of ids to a sequence of symbols.\n",
        "    \n",
        "          ids: a list, indices for the padded sequence.\n",
        "          id2word:  a dict, a mapping from ids to original symbols.\n",
        "\n",
        "          result: a list of symbols.\n",
        "    \"\"\"\n",
        " \n",
        "    return [id2word[i] for i in ids] "
      ],
      "execution_count": 13,
      "outputs": []
    },
    {
      "cell_type": "markdown",
      "metadata": {
        "id": "LnEo26et91h0"
      },
      "source": [
        "#### Generating batches"
      ]
    },
    {
      "cell_type": "markdown",
      "metadata": {
        "id": "kXsxWhXX91h2"
      },
      "source": [
        "The final step of data preparation is a function that transforms a batch of sentences to a list of lists of indices. "
      ]
    },
    {
      "cell_type": "code",
      "metadata": {
        "id": "IRfj_d9891h4"
      },
      "source": [
        "def batch_to_ids(sentences, word2id, max_len):\n",
        "    \"\"\"Prepares batches of indices. \n",
        "    \n",
        "       Sequences are padded to match the longest sequence in the batch,\n",
        "       if it's longer than max_len, then max_len is used instead.\n",
        "\n",
        "        sentences: a list of strings, original sequences.\n",
        "        word2id: a dict, a mapping from original symbols to ids.\n",
        "        max_len: an integer, max len of sequences allowed.\n",
        "\n",
        "        result: a list of lists of ids, a list of actual lengths.\n",
        "    \"\"\"\n",
        "    \n",
        "    max_len_in_batch = min(max(len(s) for s in sentences) + 1, max_len)\n",
        "    batch_ids, batch_ids_len = [], []\n",
        "    for sentence in sentences:\n",
        "        ids, ids_len = sentence_to_ids(sentence, word2id, max_len_in_batch)\n",
        "        batch_ids.append(ids)\n",
        "        batch_ids_len.append(ids_len)\n",
        "    return batch_ids, batch_ids_len"
      ],
      "execution_count": 14,
      "outputs": []
    },
    {
      "cell_type": "markdown",
      "metadata": {
        "id": "pnaiYBxu91h9"
      },
      "source": [
        "The function *generate_batches* will help to generate batches with defined size from given samples."
      ]
    },
    {
      "cell_type": "code",
      "metadata": {
        "id": "2MARpsbG91h_"
      },
      "source": [
        "def generate_batches(samples, batch_size=64):\n",
        "    X, Y = [], []\n",
        "    for i, (x, y) in enumerate(samples, 1):\n",
        "        X.append(x)\n",
        "        Y.append(y)\n",
        "        if i % batch_size == 0:\n",
        "            yield X, Y\n",
        "            X, Y = [], []\n",
        "    if X and Y:\n",
        "        yield X, Y"
      ],
      "execution_count": 15,
      "outputs": []
    },
    {
      "cell_type": "markdown",
      "metadata": {
        "id": "_2WmMC3e91iD"
      },
      "source": [
        "To illustrate the result of the implemented functions, run the following cell:"
      ]
    },
    {
      "cell_type": "code",
      "metadata": {
        "id": "f5rR1pt291iE",
        "colab": {
          "base_uri": "https://localhost:8080/"
        },
        "outputId": "133b2aff-6bb2-402b-fb85-ca8fe3b08d9f"
      },
      "source": [
        "sentences = train_set[0]\n",
        "ids, sent_lens = batch_to_ids(sentences, word2id, max_len=10)\n",
        "print('Input:', sentences)\n",
        "print('Ids: {}\\nSentences lengths: {}'.format(ids, sent_lens))"
      ],
      "execution_count": 16,
      "outputs": [
        {
          "output_type": "stream",
          "text": [
            "Input: ('7681+7015', '14696')\n",
            "Ids: [[11, 10, 12, 5, 3, 11, 14, 5, 9, 2], [5, 8, 10, 13, 10, 2, 0, 0, 0, 0]]\n",
            "Sentences lengths: [10, 6]\n"
          ],
          "name": "stdout"
        }
      ]
    },
    {
      "cell_type": "markdown",
      "metadata": {
        "id": "ZfVbqiTo91iL"
      },
      "source": [
        "## Encoder-Decoder architecture\n",
        "\n",
        "Encoder-Decoder is a successful architecture for Seq2Seq tasks with different lengths of input and output sequences. The main idea is to use two recurrent neural networks, where the first neural network *encodes* the input sequence into a real-valued vector and then the second neural network *decodes* this vector into the output sequence. While building the neural network, we will specify some particular characteristics of this architecture."
      ]
    },
    {
      "cell_type": "code",
      "metadata": {
        "colab": {
          "base_uri": "https://localhost:8080/"
        },
        "id": "RIdr9zA7Cb7U",
        "outputId": "1efd8b35-6381-476a-c290-f37aef98e525"
      },
      "source": [
        "%tensorflow_version 1.x"
      ],
      "execution_count": 17,
      "outputs": [
        {
          "output_type": "stream",
          "text": [
            "TensorFlow 1.x selected.\n"
          ],
          "name": "stdout"
        }
      ]
    },
    {
      "cell_type": "code",
      "metadata": {
        "id": "pUafBz3L91iL"
      },
      "source": [
        "import tensorflow as tf"
      ],
      "execution_count": 18,
      "outputs": []
    },
    {
      "cell_type": "code",
      "metadata": {
        "colab": {
          "base_uri": "https://localhost:8080/"
        },
        "id": "7O8JU4GpCdkn",
        "outputId": "c1359e66-b419-4f24-b5ce-bca3be687d6b"
      },
      "source": [
        "print(tf.__version__)"
      ],
      "execution_count": 19,
      "outputs": [
        {
          "output_type": "stream",
          "text": [
            "1.15.2\n"
          ],
          "name": "stdout"
        }
      ]
    },
    {
      "cell_type": "markdown",
      "metadata": {
        "id": "DdTARiib91iQ"
      },
      "source": [
        "Let us use TensorFlow building blocks to specify the network architecture."
      ]
    },
    {
      "cell_type": "code",
      "metadata": {
        "id": "iaDvCzFh91iS"
      },
      "source": [
        "class Seq2SeqModel(object):\n",
        "    pass"
      ],
      "execution_count": 20,
      "outputs": []
    },
    {
      "cell_type": "markdown",
      "metadata": {
        "id": "SI2Bksbq91iV"
      },
      "source": [
        "First, we need to create [placeholders](https://www.tensorflow.org/api_guides/python/io_ops#Placeholders) to specify what data we are going to feed into the network during the execution time. For this task we will need:\n",
        " - *input_batch* — sequences of sentences (the shape will equal to [batch_size, max_sequence_len_in_batch]);\n",
        " - *input_batch_lengths* — lengths of not padded sequences (the shape equals to [batch_size]);\n",
        " - *ground_truth* — sequences of groundtruth (the shape will equal to [batch_size, max_sequence_len_in_batch]);\n",
        " - *ground_truth_lengths* — lengths of not padded groundtruth sequences (the shape equals to [batch_size]);\n",
        " - *dropout_ph* — dropout keep probability; this placeholder has a predifined value 1;\n",
        " - *learning_rate_ph* — learning rate."
      ]
    },
    {
      "cell_type": "code",
      "metadata": {
        "id": "y1hBOAtK91iW"
      },
      "source": [
        "def declare_placeholders(self):\n",
        "    \"\"\"Specifies placeholders for the model.\"\"\"\n",
        "    \n",
        "    # Placeholders for input and its actual lengths.\n",
        "    self.input_batch = tf.placeholder(shape=(None, None), dtype=tf.int32, name='input_batch')\n",
        "    self.input_batch_lengths = tf.placeholder(shape=(None, ), dtype=tf.int32, name='input_batch_lengths')\n",
        "    \n",
        "    # Placeholders for groundtruth and its actual lengths.\n",
        "    self.ground_truth = tf.placeholder(shape=(None, None), dtype=tf.int32, name='ground_truth') ######### YOUR CODE HERE #############\n",
        "    self.ground_truth_lengths = tf.placeholder(shape=(None, ), dtype=tf.int32, name='ground_truth_lengths') ######### YOUR CODE HERE #############\n",
        "        \n",
        "    self.dropout_ph = tf.placeholder_with_default(tf.cast(1.0, tf.float32), shape=[])\n",
        "    self.learning_rate_ph = tf.placeholder(dtype=tf.float32, shape=[]) ######### YOUR CODE HERE ############# "
      ],
      "execution_count": 21,
      "outputs": []
    },
    {
      "cell_type": "code",
      "metadata": {
        "id": "PJagdpMQ91ib"
      },
      "source": [
        "Seq2SeqModel.__declare_placeholders = classmethod(declare_placeholders)"
      ],
      "execution_count": 22,
      "outputs": []
    },
    {
      "cell_type": "markdown",
      "metadata": {
        "id": "DB_EY8vt91ih"
      },
      "source": [
        "Now, let us specify the layers of the neural network. First, we need to prepare an embedding matrix. Since we use the same vocabulary for input and output, we need only one such matrix. For tasks with different vocabularies there would be multiple embedding layers.\n",
        "- Create embeddings matrix with [tf.Variable](https://www.tensorflow.org/api_docs/python/tf/Variable). Specify its name, type (tf.float32), and initialize with random values.\n",
        "- Perform [embeddings lookup](https://www.tensorflow.org/api_docs/python/tf/nn/embedding_lookup) for a given input batch."
      ]
    },
    {
      "cell_type": "code",
      "metadata": {
        "id": "eUqmanG591ij"
      },
      "source": [
        "def create_embeddings(self, vocab_size, embeddings_size):\n",
        "    \"\"\"Specifies embeddings layer and embeds an input batch.\"\"\"\n",
        "     \n",
        "    random_initializer = tf.random_uniform((vocab_size, embeddings_size), -1.0, 1.0)\n",
        "    self.embeddings = tf.Variable(random_initializer, dtype=tf.float32, name='embeddings_matrix') ######### YOUR CODE HERE ############# \n",
        "    \n",
        "    # Perform embeddings lookup for self.input_batch. \n",
        "    self.input_batch_embedded = tf.nn.embedding_lookup(self.embeddings, self.input_batch) ######### YOUR CODE HERE ############# "
      ],
      "execution_count": 23,
      "outputs": []
    },
    {
      "cell_type": "code",
      "metadata": {
        "id": "hWxJ3uhF91io"
      },
      "source": [
        "Seq2SeqModel.__create_embeddings = classmethod(create_embeddings)"
      ],
      "execution_count": 24,
      "outputs": []
    },
    {
      "cell_type": "markdown",
      "metadata": {
        "id": "aydHu4aI91ix"
      },
      "source": [
        "#### Encoder\n",
        "\n",
        "The first RNN of the current architecture is called an *encoder* and serves for encoding an input sequence to a real-valued vector. Input of this RNN is an embedded input batch. Since sentences in the same batch could have different actual lengths, we also provide input lengths to avoid unnecessary computations. The final encoder state will be passed to the second RNN (decoder), which we will create soon. \n",
        "\n",
        "- TensorFlow provides a number of [RNN cells](https://www.tensorflow.org/api_guides/python/contrib.rnn#Core_RNN_Cells_for_use_with_TensorFlow_s_core_RNN_methods) ready for use. We suggest that you use [GRU cell](https://www.tensorflow.org/api_docs/python/tf/contrib/rnn/GRUCell), but you can also experiment with other types. \n",
        "- Wrap your cells with [DropoutWrapper](https://www.tensorflow.org/api_docs/python/tf/contrib/rnn/DropoutWrapper). Dropout is an important regularization technique for neural networks. Specify input keep probability using the dropout placeholder that we created before.\n",
        "- Combine the defined encoder cells with [Dynamic RNN](https://www.tensorflow.org/api_docs/python/tf/nn/dynamic_rnn). Use the embedded input batches and their lengths here.\n",
        "- Use *dtype=tf.float32* everywhere."
      ]
    },
    {
      "cell_type": "code",
      "metadata": {
        "id": "xWrXimDH91i0"
      },
      "source": [
        "def build_encoder(self, hidden_size):\n",
        "    \"\"\"Specifies encoder architecture and computes its output.\"\"\"\n",
        "    \n",
        "    # Create GRUCell with dropout.\n",
        "    ######### YOUR CODE HERE #############\n",
        "    encoder_cell = tf.nn.rnn_cell.DropoutWrapper(tf.nn.rnn_cell.GRUCell(hidden_size), \n",
        "                                                 dtype = tf.float32, \n",
        "                                                 input_keep_prob = self.dropout_ph, \n",
        "                                                 output_keep_prob = self.dropout_ph)\n",
        "    \n",
        "    # Create RNN with the predefined cell.\n",
        "    ######### YOUR CODE HERE #############\n",
        "    _, self.final_encoder_state = tf.nn.dynamic_rnn(encoder_cell, self.input_batch_embedded, \n",
        "                                                    dtype = tf.float32, \n",
        "                                                    sequence_length = self.input_batch_lengths)"
      ],
      "execution_count": 25,
      "outputs": []
    },
    {
      "cell_type": "code",
      "metadata": {
        "id": "PhUgClvb91i3"
      },
      "source": [
        "Seq2SeqModel.__build_encoder = classmethod(build_encoder)"
      ],
      "execution_count": 26,
      "outputs": []
    },
    {
      "cell_type": "markdown",
      "metadata": {
        "id": "akpYCQ6c91i8"
      },
      "source": [
        "#### Decoder\n",
        "\n",
        "The second RNN is called a *decoder* and serves for generating the output sequence. In the simple seq2seq arcitecture, the input sequence is provided to the decoder only as the final state of the encoder. Obviously, it is a bottleneck and [Attention techniques](https://www.tensorflow.org/tutorials/seq2seq#background_on_the_attention_mechanism) can help to overcome it. So far, we do not need them to make our calculator work, but this would be a necessary ingredient for more advanced tasks. \n",
        "\n",
        "During training, decoder also uses information about the true output. It is feeded in as input symbol by symbol. However, during the prediction stage (which is called *inference* in this architecture), the decoder can only use its own generated output from the previous step to feed it in at the next step. Because of this difference (*training* vs *inference*), we will create two distinct instances, which will serve for the described scenarios.\n",
        "\n",
        "The picture below illustrates the point. It also shows our work with the special characters, e.g. look how the start symbol `^` is used. The transparent parts are ignored. In decoder, it is masked out in the loss computation. In encoder, the green state is considered as final and passed to the decoder. "
      ]
    },
    {
      "cell_type": "markdown",
      "metadata": {
        "id": "rlJm3YvM91i9"
      },
      "source": [
        "<img src=\"https://github.com/hse-aml/natural-language-processing/blob/master/week4/encoder-decoder-pic.png?raw=1\" style=\"width: 500px;\">"
      ]
    },
    {
      "cell_type": "markdown",
      "metadata": {
        "id": "XcG2rhdA91i9"
      },
      "source": [
        "Now, it's time to implement the decoder:\n",
        " - First, we should create two [helpers](https://www.tensorflow.org/api_guides/python/contrib.seq2seq#Dynamic_Decoding). These classes help to determine the behaviour of the decoder. During the training time, we will use [TrainingHelper](https://www.tensorflow.org/api_docs/python/tf/contrib/seq2seq/TrainingHelper). For the inference we recommend to use [GreedyEmbeddingHelper](https://www.tensorflow.org/api_docs/python/tf/contrib/seq2seq/GreedyEmbeddingHelper).\n",
        " - To share all parameters during training and inference, we use one scope and set the flag 'reuse' to True at inference time. You might be interested to know more about how [variable scopes](https://www.tensorflow.org/programmers_guide/variables) work in TF. \n",
        " - To create the decoder itself, we will use [BasicDecoder](https://www.tensorflow.org/api_docs/python/tf/contrib/seq2seq/BasicDecoder) class. As previously, you should choose some RNN cell, e.g. GRU cell. To turn hidden states into logits, we will need a projection layer. One of the simple solutions is using [OutputProjectionWrapper](https://www.tensorflow.org/api_docs/python/tf/contrib/rnn/OutputProjectionWrapper).\n",
        " - For getting the predictions, it will be convinient to use [dynamic_decode](https://www.tensorflow.org/api_docs/python/tf/contrib/seq2seq/dynamic_decode). This function uses the provided decoder to perform decoding."
      ]
    },
    {
      "cell_type": "code",
      "metadata": {
        "id": "0aZ7oVhL91i-"
      },
      "source": [
        "def build_decoder(self, hidden_size, vocab_size, max_iter, start_symbol_id, end_symbol_id):\n",
        "    \"\"\"Specifies decoder architecture and computes the output.\n",
        "    \n",
        "        Uses different helpers:\n",
        "          - for train: feeding ground truth\n",
        "          - for inference: feeding generated output\n",
        "\n",
        "        As a result, self.train_outputs and self.infer_outputs are created. \n",
        "        Each of them contains two fields:\n",
        "          rnn_output (predicted logits)\n",
        "          sample_id (predictions).\n",
        "\n",
        "    \"\"\"\n",
        "    \n",
        "    # Use start symbols as the decoder inputs at the first time step.\n",
        "    batch_size = tf.shape(self.input_batch)[0]\n",
        "    start_tokens = tf.fill([batch_size], start_symbol_id)\n",
        "    ground_truth_as_input = tf.concat([tf.expand_dims(start_tokens, 1), self.ground_truth], 1)\n",
        "    \n",
        "    # Use the embedding layer defined before to lookup embedings for ground_truth_as_input. \n",
        "    self.ground_truth_embedded = tf.nn.embedding_lookup(self.embeddings, ground_truth_as_input) ######### YOUR CODE HERE #############\n",
        "     \n",
        "    # Create TrainingHelper for the train stage.\n",
        "    train_helper = tf.contrib.seq2seq.TrainingHelper(self.ground_truth_embedded, \n",
        "                                                     self.ground_truth_lengths)\n",
        "    \n",
        "    # Create GreedyEmbeddingHelper for the inference stage.\n",
        "    # You should provide the embedding layer, start_tokens and index of the end symbol.\n",
        "    ######### YOUR CODE HERE #############\n",
        "    infer_helper = tf.contrib.seq2seq.GreedyEmbeddingHelper(self.embeddings, start_tokens, end_symbol_id)\n",
        "    \n",
        "  \n",
        "    def decode(helper, scope, reuse=None):\n",
        "        \"\"\"Creates decoder and return the results of the decoding with a given helper.\"\"\"\n",
        "        \n",
        "        with tf.variable_scope(scope, reuse=reuse):\n",
        "            # Create GRUCell with dropout. Do not forget to set the reuse flag properly.\n",
        "            ######### YOUR CODE HERE #############\n",
        "            decoder_cell = tf.nn.rnn_cell.DropoutWrapper(tf.contrib.rnn.GRUCell(hidden_size, reuse = reuse), \n",
        "                                                         dtype = tf.float32, \n",
        "                                                         input_keep_prob = self.dropout_ph, \n",
        "                                                         output_keep_prob = self.dropout_ph)\n",
        "            \n",
        "            # Create a projection wrapper.\n",
        "            decoder_cell = tf.contrib.rnn.OutputProjectionWrapper(decoder_cell, vocab_size, reuse=reuse)\n",
        "            \n",
        "            # Create BasicDecoder, pass the defined cell, a helper, and initial state.\n",
        "            # The initial state should be equal to the final state of the encoder!\n",
        "            ######### YOUR CODE HERE #############\n",
        "            decoder = tf.contrib.seq2seq.BasicDecoder(cell = decoder_cell, \n",
        "                                                      helper = helper, \n",
        "                                                      initial_state = self.final_encoder_state) \n",
        "            \n",
        "            # The first returning argument of dynamic_decode contains two fields:\n",
        "            #   rnn_output (predicted logits)\n",
        "            #   sample_id (predictions)\n",
        "            outputs, _, _ = tf.contrib.seq2seq.dynamic_decode(decoder=decoder, maximum_iterations=max_iter, \n",
        "                                                              output_time_major=False, impute_finished=True)\n",
        "\n",
        "            return outputs\n",
        "        \n",
        "    self.train_outputs = decode(train_helper, 'decode')\n",
        "    self.infer_outputs = decode(infer_helper, 'decode', reuse=True)"
      ],
      "execution_count": 27,
      "outputs": []
    },
    {
      "cell_type": "code",
      "metadata": {
        "id": "fhsFUwdL91jB"
      },
      "source": [
        "Seq2SeqModel.__build_decoder = classmethod(build_decoder)"
      ],
      "execution_count": 28,
      "outputs": []
    },
    {
      "cell_type": "markdown",
      "metadata": {
        "id": "we1p_nXh91jF"
      },
      "source": [
        "In this task we will use [sequence_loss](https://www.tensorflow.org/api_docs/python/tf/contrib/seq2seq/sequence_loss), which is a weighted cross-entropy loss for a sequence of logits. Take a moment to understand, what is your train logits and targets. Also note, that we do not want to take into account loss terms coming from padding symbols, so we will mask them out using weights.  "
      ]
    },
    {
      "cell_type": "code",
      "metadata": {
        "id": "-F3hgqTN91jF"
      },
      "source": [
        "def compute_loss(self):\n",
        "    \"\"\"Computes sequence loss (masked cross-entopy loss with logits).\"\"\"\n",
        "    \n",
        "    weights = tf.cast(tf.sequence_mask(self.ground_truth_lengths), dtype=tf.float32)\n",
        "    \n",
        "    ######### YOUR CODE HERE #############\n",
        "    self.loss = tf.contrib.seq2seq.sequence_loss(self.train_outputs.rnn_output, \n",
        "                                                 self.ground_truth, weights) "
      ],
      "execution_count": 29,
      "outputs": []
    },
    {
      "cell_type": "code",
      "metadata": {
        "id": "ky9EPQIW91jI"
      },
      "source": [
        "Seq2SeqModel.__compute_loss = classmethod(compute_loss)"
      ],
      "execution_count": 30,
      "outputs": []
    },
    {
      "cell_type": "markdown",
      "metadata": {
        "id": "aHHovPnA91jM"
      },
      "source": [
        "The last thing to specify is the optimization of the defined loss. \n",
        "We suggest that you use [optimize_loss](https://www.tensorflow.org/api_docs/python/tf/contrib/layers/optimize_loss) with Adam optimizer and a learning rate from the corresponding placeholder. You might also need to pass global step (e.g. as tf.train.get_global_step()) and clip gradients by 1.0."
      ]
    },
    {
      "cell_type": "code",
      "metadata": {
        "id": "mtzxIP-y91jN"
      },
      "source": [
        "def perform_optimization(self):\n",
        "    \"\"\"Specifies train_op that optimizes self.loss.\"\"\"\n",
        "    \n",
        "    ######### YOUR CODE HERE #############\n",
        "    self.train_op = tf.contrib.layers.optimize_loss(self.loss, \n",
        "                                                    global_step = tf.train.get_global_step(), \n",
        "                                                    learning_rate = self.learning_rate_ph, \n",
        "                                                    optimizer = 'Adam', \n",
        "                                                    clip_gradients = 1.0)"
      ],
      "execution_count": 31,
      "outputs": []
    },
    {
      "cell_type": "code",
      "metadata": {
        "id": "KZXFsXfG91jQ"
      },
      "source": [
        "Seq2SeqModel.__perform_optimization = classmethod(perform_optimization)"
      ],
      "execution_count": 32,
      "outputs": []
    },
    {
      "cell_type": "markdown",
      "metadata": {
        "id": "N6DhjL6H91jT"
      },
      "source": [
        "Congratulations! You have specified all the parts of your network. You may have noticed, that we didn't deal with any real data yet, so what you have written is just recipies on how the network should function.\n",
        "Now we will put them to the constructor of our Seq2SeqModel class to use it in the next section. "
      ]
    },
    {
      "cell_type": "code",
      "metadata": {
        "id": "odxbULcH91jT"
      },
      "source": [
        "def init_model(self, vocab_size, embeddings_size, hidden_size, \n",
        "               max_iter, start_symbol_id, end_symbol_id, padding_symbol_id):\n",
        "    \n",
        "    self.__declare_placeholders()\n",
        "    self.__create_embeddings(vocab_size, embeddings_size)\n",
        "    self.__build_encoder(hidden_size)\n",
        "    self.__build_decoder(hidden_size, vocab_size, max_iter, start_symbol_id, end_symbol_id)\n",
        "    \n",
        "    # Compute loss and back-propagate.\n",
        "    self.__compute_loss()\n",
        "    self.__perform_optimization()\n",
        "    \n",
        "    # Get predictions for evaluation.\n",
        "    self.train_predictions = self.train_outputs.sample_id\n",
        "    self.infer_predictions = self.infer_outputs.sample_id"
      ],
      "execution_count": 33,
      "outputs": []
    },
    {
      "cell_type": "code",
      "metadata": {
        "id": "cdlXnnax91jX"
      },
      "source": [
        "Seq2SeqModel.__init__ = classmethod(init_model)"
      ],
      "execution_count": 34,
      "outputs": []
    },
    {
      "cell_type": "markdown",
      "metadata": {
        "id": "03p6kY-h91jj"
      },
      "source": [
        "## Train the network and predict output\n",
        "\n",
        "[Session.run](https://www.tensorflow.org/api_docs/python/tf/Session#run) is a point which initiates computations in the graph that we have defined. To train the network, we need to compute *self.train_op*. To predict output, we just need to compute *self.infer_predictions*. In any case, we need to feed actual data through the placeholders that we defined above. "
      ]
    },
    {
      "cell_type": "code",
      "metadata": {
        "id": "_F1mhWWE91jk"
      },
      "source": [
        "def train_on_batch(self, session, X, X_seq_len, Y, Y_seq_len, learning_rate, dropout_keep_probability):\n",
        "    feed_dict = {\n",
        "            self.input_batch: X,\n",
        "            self.input_batch_lengths: X_seq_len,\n",
        "            self.ground_truth: Y,\n",
        "            self.ground_truth_lengths: Y_seq_len,\n",
        "            self.learning_rate_ph: learning_rate,\n",
        "            self.dropout_ph: dropout_keep_probability\n",
        "        }\n",
        "    pred, loss, _ = session.run([\n",
        "            self.train_predictions,\n",
        "            self.loss,\n",
        "            self.train_op], feed_dict=feed_dict)\n",
        "    return pred, loss"
      ],
      "execution_count": 35,
      "outputs": []
    },
    {
      "cell_type": "code",
      "metadata": {
        "id": "3jlkElRD91jp"
      },
      "source": [
        "Seq2SeqModel.train_on_batch = classmethod(train_on_batch)"
      ],
      "execution_count": 36,
      "outputs": []
    },
    {
      "cell_type": "markdown",
      "metadata": {
        "id": "tmdUV_nk91js"
      },
      "source": [
        "We implemented two prediction functions: *predict_for_batch* and *predict_for_batch_with_loss*. The first one allows only to predict output for some input sequence, while the second one could compute loss because we provide also ground truth values. Both these functions might be useful since the first one could be used for predicting only, and the second one is helpful for validating results on not-training data during the training."
      ]
    },
    {
      "cell_type": "code",
      "metadata": {
        "id": "FhV2FuHW91jt"
      },
      "source": [
        "def predict_for_batch(self, session, X, X_seq_len):\n",
        "    feed_dict = feed_dict = {self.input_batch: X, \n",
        "                             self.input_batch_lengths: X_seq_len, \n",
        "                             self.dropout_ph: 1.0}  ######### YOUR CODE HERE #############\n",
        "    \n",
        "    pred = session.run([\n",
        "            self.infer_predictions\n",
        "        ], feed_dict=feed_dict)[0]\n",
        "    return pred\n",
        "\n",
        "def predict_for_batch_with_loss(self, session, X, X_seq_len, Y, Y_seq_len):\n",
        "    feed_dict = feed_dict = {self.input_batch: X,                 \n",
        "                             self.input_batch_lengths: X_seq_len,\n",
        "                             self.ground_truth: Y,\n",
        "                             self.ground_truth_lengths: Y_seq_len,\n",
        "                             self.dropout_ph: 1.0}   ######### YOUR CODE HERE #############\n",
        "    \n",
        "    pred, loss = session.run([\n",
        "            self.infer_predictions,\n",
        "            self.loss,\n",
        "        ], feed_dict=feed_dict)\n",
        "    return pred, loss"
      ],
      "execution_count": 37,
      "outputs": []
    },
    {
      "cell_type": "code",
      "metadata": {
        "id": "gAkbqdC691jx"
      },
      "source": [
        "Seq2SeqModel.predict_for_batch = classmethod(predict_for_batch)\n",
        "Seq2SeqModel.predict_for_batch_with_loss = classmethod(predict_for_batch_with_loss)"
      ],
      "execution_count": 38,
      "outputs": []
    },
    {
      "cell_type": "markdown",
      "metadata": {
        "id": "QHrUy1i491j1"
      },
      "source": [
        "## Run your experiment\n",
        "\n",
        "Create *Seq2SeqModel* model with the following parameters:\n",
        " - *vocab_size* — number of tokens;\n",
        " - *embeddings_size* — dimension of embeddings, recommended value: 20;\n",
        " - *max_iter* — maximum number of steps in decoder, recommended value: 7;\n",
        " - *hidden_size* — size of hidden layers for RNN, recommended value: 512;\n",
        " - *start_symbol_id* — an index of the start token (`^`).\n",
        " - *end_symbol_id* — an index of the end token (`$`).\n",
        " - *padding_symbol_id* — an index of the padding token (`#`).\n",
        "\n",
        "Set hyperparameters. You might want to start with the following values and see how it works:\n",
        "- *batch_size*: 128;\n",
        "- at least 10 epochs;\n",
        "- value of *learning_rate*: 0.001\n",
        "- *dropout_keep_probability* equals to 0.5 for training (typical values for dropout probability are ranging from 0.1 to 1.0); larger values correspond smaler number of dropout units;\n",
        "- *max_len*: 20."
      ]
    },
    {
      "cell_type": "code",
      "metadata": {
        "id": "4zvokaA291j1",
        "colab": {
          "base_uri": "https://localhost:8080/"
        },
        "outputId": "618c3361-2b54-4434-a485-835efb5c466f"
      },
      "source": [
        "tf.reset_default_graph()\n",
        "\n",
        "model = Seq2SeqModel(vocab_size=len(word2id),\n",
        "                     embeddings_size=20, \n",
        "                     hidden_size=512, \n",
        "                     max_iter=7, \n",
        "                     start_symbol_id=word2id[start_symbol], \n",
        "                     end_symbol_id=word2id[end_symbol], \n",
        "                     padding_symbol_id=word2id[padding_symbol])  ######### YOUR CODE HERE #############\n",
        "\n",
        "batch_size = 128  ######### YOUR CODE HERE #############\n",
        "n_epochs = 10  ######### YOUR CODE HERE #############\n",
        "learning_rate = 0.001 ######### YOUR CODE HERE #############\n",
        "dropout_keep_probability = 0.5 ######### YOUR CODE HERE #############\n",
        "max_len = 20 ######### YOUR CODE HERE #############\n",
        "\n",
        "n_step = int(len(train_set) / batch_size)"
      ],
      "execution_count": 39,
      "outputs": [
        {
          "output_type": "stream",
          "text": [
            "WARNING:tensorflow:From <ipython-input-25-2efc4cf5c27a>:6: GRUCell.__init__ (from tensorflow.python.ops.rnn_cell_impl) is deprecated and will be removed in a future version.\n",
            "Instructions for updating:\n",
            "This class is equivalent as tf.keras.layers.GRUCell, and will be replaced by that in Tensorflow 2.0.\n",
            "WARNING:tensorflow:From <ipython-input-25-2efc4cf5c27a>:15: dynamic_rnn (from tensorflow.python.ops.rnn) is deprecated and will be removed in a future version.\n",
            "Instructions for updating:\n",
            "Please use `keras.layers.RNN(cell)`, which is equivalent to this API\n",
            "WARNING:tensorflow:From /tensorflow-1.15.2/python3.7/tensorflow_core/python/ops/rnn_cell_impl.py:559: Layer.add_variable (from tensorflow.python.keras.engine.base_layer) is deprecated and will be removed in a future version.\n",
            "Instructions for updating:\n",
            "Please use `layer.add_weight` method instead.\n",
            "WARNING:tensorflow:From /tensorflow-1.15.2/python3.7/tensorflow_core/python/ops/rnn_cell_impl.py:565: calling Constant.__init__ (from tensorflow.python.ops.init_ops) with dtype is deprecated and will be removed in a future version.\n",
            "Instructions for updating:\n",
            "Call initializer instance with the dtype argument instead of passing it to the constructor\n",
            "WARNING:tensorflow:From /tensorflow-1.15.2/python3.7/tensorflow_core/python/ops/rnn_cell_impl.py:575: calling Zeros.__init__ (from tensorflow.python.ops.init_ops) with dtype is deprecated and will be removed in a future version.\n",
            "Instructions for updating:\n",
            "Call initializer instance with the dtype argument instead of passing it to the constructor\n",
            "WARNING:tensorflow:From /tensorflow-1.15.2/python3.7/tensorflow_core/python/ops/rnn.py:244: where (from tensorflow.python.ops.array_ops) is deprecated and will be removed in a future version.\n",
            "Instructions for updating:\n",
            "Use tf.where in 2.0, which has the same broadcast rule as np.where\n",
            "WARNING:tensorflow:\n",
            "The TensorFlow contrib module will not be included in TensorFlow 2.0.\n",
            "For more information, please see:\n",
            "  * https://github.com/tensorflow/community/blob/master/rfcs/20180907-contrib-sunset.md\n",
            "  * https://github.com/tensorflow/addons\n",
            "  * https://github.com/tensorflow/io (for I/O related ops)\n",
            "If you depend on functionality not listed there, please file an issue.\n",
            "\n"
          ],
          "name": "stdout"
        }
      ]
    },
    {
      "cell_type": "markdown",
      "metadata": {
        "id": "gkTndg6191j3"
      },
      "source": [
        "Finally, we are ready to run the training! A good indicator that everything works fine is decreasing loss during the training. You should account on the loss value equal to approximately 2.7 at the beginning of the training and near 1 after the 10th epoch."
      ]
    },
    {
      "cell_type": "code",
      "metadata": {
        "scrolled": true,
        "id": "yJED8pZK91j5",
        "colab": {
          "base_uri": "https://localhost:8080/"
        },
        "outputId": "3c18e33d-aa80-4991-ceae-164f3a6dd9cc"
      },
      "source": [
        "session = tf.Session()\n",
        "session.run(tf.global_variables_initializer())\n",
        "            \n",
        "invalid_number_prediction_counts = []\n",
        "all_model_predictions = []\n",
        "all_ground_truth = []\n",
        "\n",
        "print('Start training... \\n')\n",
        "for epoch in range(n_epochs):  \n",
        "    random.shuffle(train_set)\n",
        "    random.shuffle(test_set)\n",
        "    \n",
        "    print('Train: epoch', epoch + 1)\n",
        "    for n_iter, (X_batch, Y_batch) in enumerate(generate_batches(train_set, batch_size=batch_size)):\n",
        "        ######################################\n",
        "        ######### YOUR CODE HERE #############\n",
        "        ######################################\n",
        "        # prepare the data (X_batch and Y_batch) for training\n",
        "        # using function batch_to_ids\n",
        "        X, X_seq_len = batch_to_ids(X_batch, word2id, max_len)\n",
        "        Y, Y_seq_len = batch_to_ids(Y_batch, word2id, max_len)\n",
        "        \n",
        "        ######### YOUR CODE HERE #############\n",
        "        predictions, loss = model.train_on_batch(session, X, X_seq_len, Y, Y_seq_len, learning_rate, dropout_keep_probability)\n",
        "        \n",
        "        if n_iter % 200 == 0:\n",
        "            print(\"Epoch: [%d/%d], step: [%d/%d], loss: %f\" % (epoch + 1, n_epochs, n_iter + 1, n_step, loss))\n",
        "                \n",
        "    X_sent, Y_sent = next(generate_batches(test_set, batch_size=batch_size))\n",
        "    ######################################\n",
        "    ######### YOUR CODE HERE #############\n",
        "    ######################################\n",
        "    # prepare test data (X_sent and Y_sent) for predicting \n",
        "    # quality and computing value of the loss function\n",
        "    # using function batch_to_ids\n",
        "    X, X_seq_len = batch_to_ids(X_sent, word2id, max_len)\n",
        "    Y, Y_seq_len = batch_to_ids(Y_sent, word2id, max_len)\n",
        "    \n",
        "    ######### YOUR CODE HERE #############\n",
        "    predictions, loss = model.predict_for_batch_with_loss(session, X, X_seq_len, Y, Y_seq_len)\n",
        "    \n",
        "    print('Test: epoch', epoch + 1, 'loss:', loss,)\n",
        "    for x, y, p  in list(zip(X, Y, predictions))[:3]:\n",
        "        print('X:',''.join(ids_to_sentence(x, id2word)))\n",
        "        print('Y:',''.join(ids_to_sentence(y, id2word)))\n",
        "        print('O:',''.join(ids_to_sentence(p, id2word)))\n",
        "        print('')\n",
        "\n",
        "    model_predictions = []\n",
        "    ground_truth = []\n",
        "    invalid_number_prediction_count = 0\n",
        "    # For the whole test set calculate ground-truth values (as integer numbers)\n",
        "    # and prediction values (also as integers) to calculate metrics.\n",
        "    # If generated by model number is not correct (e.g. '1-1'), \n",
        "    # increase invalid_number_prediction_count and don't append this and corresponding\n",
        "    # ground-truth value to the arrays.\n",
        "    for X_batch, Y_batch in generate_batches(test_set, batch_size=batch_size):\n",
        "        ######################################\n",
        "        ######### YOUR CODE HERE #############\n",
        "        ######################################\n",
        "        X, X_seq_len = batch_to_ids(X_batch, word2id, max_len)\n",
        "        Y, Y_seq_len = batch_to_ids(Y_batch, word2id, max_len)\n",
        "        pred, loss = model.predict_for_batch_with_loss(session, X, X_seq_len, Y, Y_seq_len)\n",
        "        \n",
        "        for y, p in zip(Y, pred):\n",
        "          try:\n",
        "            val_t = eval(''.join(ids_to_sentence(y, id2word)).split('$')[0])\n",
        "            val_p = eval(''.join(ids_to_sentence(p, id2word)).split('$')[0])\n",
        "            model_predictions.append(val_p)\n",
        "            ground_truth.append(val_t)\n",
        "          except:\n",
        "            invalid_number_prediction_count += 1  \n",
        "    \n",
        "    all_model_predictions.append(model_predictions)\n",
        "    all_ground_truth.append(ground_truth)\n",
        "    invalid_number_prediction_counts.append(invalid_number_prediction_count)\n",
        "            \n",
        "print('\\n...training finished.')"
      ],
      "execution_count": 40,
      "outputs": [
        {
          "output_type": "stream",
          "text": [
            "Start training... \n",
            "\n",
            "Train: epoch 1\n",
            "Epoch: [1/10], step: [1/625], loss: 2.710725\n",
            "Epoch: [1/10], step: [201/625], loss: 1.858926\n",
            "Epoch: [1/10], step: [401/625], loss: 1.758496\n",
            "Epoch: [1/10], step: [601/625], loss: 1.643127\n",
            "Test: epoch 1 loss: 1.6274967\n",
            "X: 9092+1194$\n",
            "Y: 10286$\n",
            "O: 11117$\n",
            "\n",
            "X: 6043-2403$\n",
            "Y: 3640$#\n",
            "O: 3027$#\n",
            "\n",
            "X: 9206-1646$\n",
            "Y: 7560$#\n",
            "O: 6007$#\n",
            "\n",
            "Train: epoch 2\n",
            "Epoch: [2/10], step: [1/625], loss: 1.660665\n",
            "Epoch: [2/10], step: [201/625], loss: 1.651040\n",
            "Epoch: [2/10], step: [401/625], loss: 1.586065\n",
            "Epoch: [2/10], step: [601/625], loss: 1.513623\n",
            "Test: epoch 2 loss: 1.4167129\n",
            "X: 3815+4877$\n",
            "Y: 8692$#\n",
            "O: 8001$#\n",
            "\n",
            "X: 9171+3621$\n",
            "Y: 12792$\n",
            "O: 12334$\n",
            "\n",
            "X: 7620+3422$\n",
            "Y: 11042$\n",
            "O: 11103$\n",
            "\n",
            "Train: epoch 3\n",
            "Epoch: [3/10], step: [1/625], loss: 1.487782\n",
            "Epoch: [3/10], step: [201/625], loss: 1.494167\n",
            "Epoch: [3/10], step: [401/625], loss: 1.459159\n",
            "Epoch: [3/10], step: [601/625], loss: 1.409856\n",
            "Test: epoch 3 loss: 1.3721905\n",
            "X: 6098-9056$\n",
            "Y: -2958$\n",
            "O: -2938$\n",
            "\n",
            "X: 4056-4892$\n",
            "Y: -836$#\n",
            "O: -1022$\n",
            "\n",
            "X: 3525+5295$\n",
            "Y: 8820$#\n",
            "O: 8888$#\n",
            "\n",
            "Train: epoch 4\n",
            "Epoch: [4/10], step: [1/625], loss: 1.446374\n",
            "Epoch: [4/10], step: [201/625], loss: 1.422939\n",
            "Epoch: [4/10], step: [401/625], loss: 1.386479\n",
            "Epoch: [4/10], step: [601/625], loss: 1.375668\n",
            "Test: epoch 4 loss: 1.2966444\n",
            "X: 6917-6512$\n",
            "Y: 405$##\n",
            "O: -110$#\n",
            "\n",
            "X: 2904+252$#\n",
            "Y: 3156$#\n",
            "O: 3511$#\n",
            "\n",
            "X: 1177-6472$\n",
            "Y: -5295$\n",
            "O: -5076$\n",
            "\n",
            "Train: epoch 5\n",
            "Epoch: [5/10], step: [1/625], loss: 1.353472\n",
            "Epoch: [5/10], step: [201/625], loss: 1.363850\n",
            "Epoch: [5/10], step: [401/625], loss: 1.330458\n",
            "Epoch: [5/10], step: [601/625], loss: 1.326655\n",
            "Test: epoch 5 loss: 1.2815741\n",
            "X: 2416+3503$\n",
            "Y: 5919$#\n",
            "O: 6150$#\n",
            "\n",
            "X: 3181-8965$\n",
            "Y: -5784$\n",
            "O: -5450$\n",
            "\n",
            "X: 8152-7199$\n",
            "Y: 953$##\n",
            "O: 112$##\n",
            "\n",
            "Train: epoch 6\n",
            "Epoch: [6/10], step: [1/625], loss: 1.312000\n",
            "Epoch: [6/10], step: [201/625], loss: 1.319377\n",
            "Epoch: [6/10], step: [401/625], loss: 1.336949\n",
            "Epoch: [6/10], step: [601/625], loss: 1.278893\n",
            "Test: epoch 6 loss: 1.2104082\n",
            "X: 4545-2426$\n",
            "Y: 2119$#\n",
            "O: 2000$#\n",
            "\n",
            "X: 8313+3779$\n",
            "Y: 12092$\n",
            "O: 12334$\n",
            "\n",
            "X: 6931+9549$\n",
            "Y: 16480$\n",
            "O: 16407$\n",
            "\n",
            "Train: epoch 7\n",
            "Epoch: [7/10], step: [1/625], loss: 1.254292\n",
            "Epoch: [7/10], step: [201/625], loss: 1.267506\n",
            "Epoch: [7/10], step: [401/625], loss: 1.251657\n",
            "Epoch: [7/10], step: [601/625], loss: 1.220184\n",
            "Test: epoch 7 loss: 1.2058334\n",
            "X: 925-9882$#\n",
            "Y: -8957$\n",
            "O: -8955$\n",
            "\n",
            "X: 5743+7816$\n",
            "Y: 13559$\n",
            "O: 13611$\n",
            "\n",
            "X: 6961+2572$\n",
            "Y: 9533$#\n",
            "O: 9466$#\n",
            "\n",
            "Train: epoch 8\n",
            "Epoch: [8/10], step: [1/625], loss: 1.224756\n",
            "Epoch: [8/10], step: [201/625], loss: 1.244326\n",
            "Epoch: [8/10], step: [401/625], loss: 1.238494\n",
            "Epoch: [8/10], step: [601/625], loss: 1.228110\n",
            "Test: epoch 8 loss: 1.1624722\n",
            "X: 471+1020$#\n",
            "Y: 1491$#\n",
            "O: 1670$#\n",
            "\n",
            "X: 1296+8313$\n",
            "Y: 9609$#\n",
            "O: 9605$#\n",
            "\n",
            "X: 923+9953$#\n",
            "Y: 10876$\n",
            "O: 10800$\n",
            "\n",
            "Train: epoch 9\n",
            "Epoch: [9/10], step: [1/625], loss: 1.224653\n",
            "Epoch: [9/10], step: [201/625], loss: 1.249267\n",
            "Epoch: [9/10], step: [401/625], loss: 1.196122\n",
            "Epoch: [9/10], step: [601/625], loss: 1.222994\n",
            "Test: epoch 9 loss: 1.1431457\n",
            "X: 9235+7428$\n",
            "Y: 16663$\n",
            "O: 16529$\n",
            "\n",
            "X: 3454-9362$\n",
            "Y: -5908$\n",
            "O: -5921$\n",
            "\n",
            "X: 3280-8723$\n",
            "Y: -5443$\n",
            "O: -5472$\n",
            "\n",
            "Train: epoch 10\n",
            "Epoch: [10/10], step: [1/625], loss: 1.196747\n",
            "Epoch: [10/10], step: [201/625], loss: 1.198663\n",
            "Epoch: [10/10], step: [401/625], loss: 1.157422\n",
            "Epoch: [10/10], step: [601/625], loss: 1.189431\n",
            "Test: epoch 10 loss: 1.139352\n",
            "X: 3886+4919$\n",
            "Y: 8805$#\n",
            "O: 8846$#\n",
            "\n",
            "X: 8326+3131$\n",
            "Y: 11457$\n",
            "O: 11473$\n",
            "\n",
            "X: 967+8715$#\n",
            "Y: 9682$#\n",
            "O: 9629$#\n",
            "\n",
            "\n",
            "...training finished.\n"
          ],
          "name": "stdout"
        }
      ]
    },
    {
      "cell_type": "markdown",
      "metadata": {
        "id": "VDLPf7se91j9"
      },
      "source": [
        "## Evaluate results\n",
        "\n",
        "Because our task is simple and the output is straight-forward, we will use [MAE](https://en.wikipedia.org/wiki/Mean_absolute_error) metric to evaluate the trained model during the epochs. Compute the value of the metric for the output from each epoch."
      ]
    },
    {
      "cell_type": "code",
      "metadata": {
        "id": "dnu_mIKE91j-"
      },
      "source": [
        "from sklearn.metrics import mean_absolute_error"
      ],
      "execution_count": 41,
      "outputs": []
    },
    {
      "cell_type": "code",
      "metadata": {
        "id": "WQ5lG-nC91kA",
        "colab": {
          "base_uri": "https://localhost:8080/"
        },
        "outputId": "cfa11572-b28b-40d3-9c09-650f16f1ba9b"
      },
      "source": [
        "for i, (gts, predictions, invalid_number_prediction_count) in enumerate(zip(all_ground_truth,\n",
        "                                                                            all_model_predictions,\n",
        "                                                                            invalid_number_prediction_counts), 1):\n",
        "    mae = mean_absolute_error(gts, predictions) ######### YOUR CODE HERE #############\n",
        "    print(\"Epoch: %i, MAE: %f, Invalid numbers: %i\" % (i, mae, invalid_number_prediction_count))"
      ],
      "execution_count": 42,
      "outputs": [
        {
          "output_type": "stream",
          "text": [
            "Epoch: 1, MAE: 1225.031600, Invalid numbers: 0\n",
            "Epoch: 2, MAE: 432.953450, Invalid numbers: 0\n",
            "Epoch: 3, MAE: 304.884150, Invalid numbers: 0\n",
            "Epoch: 4, MAE: 213.338100, Invalid numbers: 0\n",
            "Epoch: 5, MAE: 171.873900, Invalid numbers: 0\n",
            "Epoch: 6, MAE: 143.369700, Invalid numbers: 0\n",
            "Epoch: 7, MAE: 108.539600, Invalid numbers: 0\n",
            "Epoch: 8, MAE: 94.734300, Invalid numbers: 0\n",
            "Epoch: 9, MAE: 84.650000, Invalid numbers: 0\n",
            "Epoch: 10, MAE: 82.920900, Invalid numbers: 0\n"
          ],
          "name": "stdout"
        }
      ]
    },
    {
      "cell_type": "markdown",
      "metadata": {
        "id": "HGieBHW3JaCH"
      },
      "source": [
        "# Extra Experiment: Hyperparameter Tuning"
      ]
    },
    {
      "cell_type": "code",
      "metadata": {
        "id": "0gJf5gcAJjvm",
        "colab": {
          "base_uri": "https://localhost:8080/"
        },
        "outputId": "f7efe81f-1e0d-42dc-b863-e4d0dc9b6e73"
      },
      "source": [
        "tf.reset_default_graph()\n",
        "\n",
        "model = Seq2SeqModel(vocab_size=len(word2id),\n",
        "                     embeddings_size=20, \n",
        "                     hidden_size=512, \n",
        "                     max_iter=7, \n",
        "                     start_symbol_id=word2id[start_symbol], \n",
        "                     end_symbol_id=word2id[end_symbol], \n",
        "                     padding_symbol_id=word2id[padding_symbol])\n",
        "\n",
        "batch_size = 64  \n",
        "n_epochs = 15  \n",
        "learning_rate = 0.001 \n",
        "dropout_keep_probability = 0.6 \n",
        "max_len = 20 \n",
        "\n",
        "n_step = int(len(train_set) / batch_size)\n",
        "\n",
        "session = tf.Session()\n",
        "session.run(tf.global_variables_initializer())\n",
        "            \n",
        "invalid_number_prediction_counts = []\n",
        "all_model_predictions = []\n",
        "all_ground_truth = []\n",
        "\n",
        "print('Start training... \\n')\n",
        "for epoch in range(n_epochs):  \n",
        "    random.shuffle(train_set)\n",
        "    random.shuffle(test_set)\n",
        "    \n",
        "    print('Train: epoch', epoch + 1)\n",
        "    for n_iter, (X_batch, Y_batch) in enumerate(generate_batches(train_set, batch_size=batch_size)):\n",
        "        X, X_seq_len = batch_to_ids(X_batch, word2id, max_len)\n",
        "        Y, Y_seq_len = batch_to_ids(Y_batch, word2id, max_len)\n",
        "        predictions, loss = model.train_on_batch(session, X, X_seq_len, Y, Y_seq_len, learning_rate, dropout_keep_probability)\n",
        "        \n",
        "        if n_iter % 200 == 0:\n",
        "            print(\"Epoch: [%d/%d], step: [%d/%d], loss: %f\" % (epoch + 1, n_epochs, n_iter + 1, n_step, loss))\n",
        "                \n",
        "    X_sent, Y_sent = next(generate_batches(test_set, batch_size=batch_size))\n",
        "    X, X_seq_len = batch_to_ids(X_sent, word2id, max_len)\n",
        "    Y, Y_seq_len = batch_to_ids(Y_sent, word2id, max_len)\n",
        "    \n",
        "    predictions, loss = model.predict_for_batch_with_loss(session, X, X_seq_len, Y, Y_seq_len)\n",
        "    \n",
        "    print('Test: epoch', epoch + 1, 'loss:', loss,)\n",
        "    for x, y, p  in list(zip(X, Y, predictions))[:3]:\n",
        "        print('X:',''.join(ids_to_sentence(x, id2word)))\n",
        "        print('Y:',''.join(ids_to_sentence(y, id2word)))\n",
        "        print('O:',''.join(ids_to_sentence(p, id2word)))\n",
        "        print('')\n",
        "\n",
        "    model_predictions = []\n",
        "    ground_truth = []\n",
        "    invalid_number_prediction_count = 0\n",
        "\n",
        "    for X_batch, Y_batch in generate_batches(test_set, batch_size=batch_size):\n",
        "\n",
        "        X, X_seq_len = batch_to_ids(X_batch, word2id, max_len)\n",
        "        Y, Y_seq_len = batch_to_ids(Y_batch, word2id, max_len)\n",
        "        pred, loss = model.predict_for_batch_with_loss(session, X, X_seq_len, Y, Y_seq_len)\n",
        "        \n",
        "        for y, p in zip(Y, pred):\n",
        "          try:\n",
        "            val_t = eval(''.join(ids_to_sentence(y, id2word)).split('$')[0])\n",
        "            val_p = eval(''.join(ids_to_sentence(p, id2word)).split('$')[0])\n",
        "            model_predictions.append(val_p)\n",
        "            ground_truth.append(val_t)\n",
        "          except:\n",
        "            invalid_number_prediction_count += 1  \n",
        "    \n",
        "    all_model_predictions.append(model_predictions)\n",
        "    all_ground_truth.append(ground_truth)\n",
        "    invalid_number_prediction_counts.append(invalid_number_prediction_count)\n",
        "            \n",
        "print('\\n...training finished.')\n",
        "\n",
        "for i, (gts, predictions, invalid_number_prediction_count) in enumerate(zip(all_ground_truth,\n",
        "                                                                            all_model_predictions,\n",
        "                                                                            invalid_number_prediction_counts), 1):\n",
        "    mae = mean_absolute_error(gts, predictions)\n",
        "    print(\"Epoch: %i, MAE: %f, Invalid numbers: %i\" % (i, mae, invalid_number_prediction_count))"
      ],
      "execution_count": 43,
      "outputs": [
        {
          "output_type": "stream",
          "text": [
            "Start training... \n",
            "\n",
            "Train: epoch 1\n",
            "Epoch: [1/15], step: [1/1250], loss: 2.694211\n",
            "Epoch: [1/15], step: [201/1250], loss: 1.860901\n",
            "Epoch: [1/15], step: [401/1250], loss: 1.800750\n",
            "Epoch: [1/15], step: [601/1250], loss: 1.794903\n",
            "Epoch: [1/15], step: [801/1250], loss: 1.656549\n",
            "Epoch: [1/15], step: [1001/1250], loss: 1.556397\n",
            "Epoch: [1/15], step: [1201/1250], loss: 1.522110\n",
            "Test: epoch 1 loss: 1.4361267\n",
            "X: 4977+6711$\n",
            "Y: 11688$\n",
            "O: 11444$\n",
            "\n",
            "X: 4253-7629$\n",
            "Y: -3376$\n",
            "O: -3255$\n",
            "\n",
            "X: 4200+5362$\n",
            "Y: 9562$#\n",
            "O: 10444$\n",
            "\n",
            "Train: epoch 2\n",
            "Epoch: [2/15], step: [1/1250], loss: 1.531836\n",
            "Epoch: [2/15], step: [201/1250], loss: 1.534210\n",
            "Epoch: [2/15], step: [401/1250], loss: 1.454569\n",
            "Epoch: [2/15], step: [601/1250], loss: 1.430643\n",
            "Epoch: [2/15], step: [801/1250], loss: 1.435922\n",
            "Epoch: [2/15], step: [1001/1250], loss: 1.368703\n",
            "Epoch: [2/15], step: [1201/1250], loss: 1.384754\n",
            "Test: epoch 2 loss: 1.3436965\n",
            "X: 9578-7703$\n",
            "Y: 1875$#\n",
            "O: 1900$#\n",
            "\n",
            "X: 2573+3531$\n",
            "Y: 6104$#\n",
            "O: 6400$#\n",
            "\n",
            "X: 6941+1950$\n",
            "Y: 8891$#\n",
            "O: 8770$#\n",
            "\n",
            "Train: epoch 3\n",
            "Epoch: [3/15], step: [1/1250], loss: 1.406164\n",
            "Epoch: [3/15], step: [201/1250], loss: 1.370315\n",
            "Epoch: [3/15], step: [401/1250], loss: 1.366408\n",
            "Epoch: [3/15], step: [601/1250], loss: 1.337279\n",
            "Epoch: [3/15], step: [801/1250], loss: 1.349271\n",
            "Epoch: [3/15], step: [1001/1250], loss: 1.336765\n",
            "Epoch: [3/15], step: [1201/1250], loss: 1.318212\n",
            "Test: epoch 3 loss: 1.3003317\n",
            "X: 379+2507$#\n",
            "Y: 2886$#\n",
            "O: 2722$#\n",
            "\n",
            "X: 2322+7658$\n",
            "Y: 9980$#\n",
            "O: 10298$\n",
            "\n",
            "X: 9528-2363$\n",
            "Y: 7165$#\n",
            "O: 7171$#\n",
            "\n",
            "Train: epoch 4\n",
            "Epoch: [4/15], step: [1/1250], loss: 1.329329\n",
            "Epoch: [4/15], step: [201/1250], loss: 1.300366\n",
            "Epoch: [4/15], step: [401/1250], loss: 1.280959\n",
            "Epoch: [4/15], step: [601/1250], loss: 1.281350\n",
            "Epoch: [4/15], step: [801/1250], loss: 1.257141\n",
            "Epoch: [4/15], step: [1001/1250], loss: 1.210075\n",
            "Epoch: [4/15], step: [1201/1250], loss: 1.269896\n",
            "Test: epoch 4 loss: 1.2557478\n",
            "X: 6720+4012$\n",
            "Y: 10732$\n",
            "O: 10611$\n",
            "\n",
            "X: 3006+6034$\n",
            "Y: 9040$#\n",
            "O: 9288$#\n",
            "\n",
            "X: 6353-3792$\n",
            "Y: 2561$#\n",
            "O: 2698$#\n",
            "\n",
            "Train: epoch 5\n",
            "Epoch: [5/15], step: [1/1250], loss: 1.228819\n",
            "Epoch: [5/15], step: [201/1250], loss: 1.260469\n",
            "Epoch: [5/15], step: [401/1250], loss: 1.252269\n",
            "Epoch: [5/15], step: [601/1250], loss: 1.195101\n",
            "Epoch: [5/15], step: [801/1250], loss: 1.272844\n",
            "Epoch: [5/15], step: [1001/1250], loss: 1.241108\n",
            "Epoch: [5/15], step: [1201/1250], loss: 1.173793\n",
            "Test: epoch 5 loss: 1.155934\n",
            "X: 2436-8272$\n",
            "Y: -5836$\n",
            "O: -5755$\n",
            "\n",
            "X: 7869+1863$\n",
            "Y: 9732$#\n",
            "O: 9851$#\n",
            "\n",
            "X: 31-1363$##\n",
            "Y: -1332$\n",
            "O: -1241$\n",
            "\n",
            "Train: epoch 6\n",
            "Epoch: [6/15], step: [1/1250], loss: 1.281981\n",
            "Epoch: [6/15], step: [201/1250], loss: 1.202169\n",
            "Epoch: [6/15], step: [401/1250], loss: 1.208126\n",
            "Epoch: [6/15], step: [601/1250], loss: 1.176224\n",
            "Epoch: [6/15], step: [801/1250], loss: 1.169755\n",
            "Epoch: [6/15], step: [1001/1250], loss: 1.160131\n",
            "Epoch: [6/15], step: [1201/1250], loss: 1.147970\n",
            "Test: epoch 6 loss: 1.1329694\n",
            "X: 3894+913$#\n",
            "Y: 4807$#\n",
            "O: 4864$#\n",
            "\n",
            "X: 3552-8677$\n",
            "Y: -5125$\n",
            "O: -5205$\n",
            "\n",
            "X: 2736-7175$\n",
            "Y: -4439$\n",
            "O: -4480$\n",
            "\n",
            "Train: epoch 7\n",
            "Epoch: [7/15], step: [1/1250], loss: 1.167813\n",
            "Epoch: [7/15], step: [201/1250], loss: 1.186245\n",
            "Epoch: [7/15], step: [401/1250], loss: 1.148200\n",
            "Epoch: [7/15], step: [601/1250], loss: 1.158482\n",
            "Epoch: [7/15], step: [801/1250], loss: 1.154961\n",
            "Epoch: [7/15], step: [1001/1250], loss: 1.181405\n",
            "Epoch: [7/15], step: [1201/1250], loss: 1.161969\n",
            "Test: epoch 7 loss: 1.1079936\n",
            "X: 2376-7159$\n",
            "Y: -4783$\n",
            "O: -4620$\n",
            "\n",
            "X: 3992-6799$\n",
            "Y: -2807$\n",
            "O: -2696$\n",
            "\n",
            "X: 7024+3141$\n",
            "Y: 10165$\n",
            "O: 10310$\n",
            "\n",
            "Train: epoch 8\n",
            "Epoch: [8/15], step: [1/1250], loss: 1.170634\n",
            "Epoch: [8/15], step: [201/1250], loss: 1.073986\n",
            "Epoch: [8/15], step: [401/1250], loss: 1.121060\n",
            "Epoch: [8/15], step: [601/1250], loss: 1.181325\n",
            "Epoch: [8/15], step: [801/1250], loss: 1.141439\n",
            "Epoch: [8/15], step: [1001/1250], loss: 1.100588\n",
            "Epoch: [8/15], step: [1201/1250], loss: 1.145939\n",
            "Test: epoch 8 loss: 1.0826912\n",
            "X: 7723+920$#\n",
            "Y: 8643$#\n",
            "O: 8680$#\n",
            "\n",
            "X: 2115+3129$\n",
            "Y: 5244$#\n",
            "O: 5322$#\n",
            "\n",
            "X: 8853-2853$\n",
            "Y: 6000$#\n",
            "O: 5999$#\n",
            "\n",
            "Train: epoch 9\n",
            "Epoch: [9/15], step: [1/1250], loss: 1.133922\n",
            "Epoch: [9/15], step: [201/1250], loss: 1.078639\n",
            "Epoch: [9/15], step: [401/1250], loss: 1.083478\n",
            "Epoch: [9/15], step: [601/1250], loss: 1.088815\n",
            "Epoch: [9/15], step: [801/1250], loss: 1.074554\n",
            "Epoch: [9/15], step: [1001/1250], loss: 1.101818\n",
            "Epoch: [9/15], step: [1201/1250], loss: 1.110894\n",
            "Test: epoch 9 loss: 1.0478617\n",
            "X: 1637-717$#\n",
            "Y: 920$##\n",
            "O: 853$##\n",
            "\n",
            "X: 4700+1756$\n",
            "Y: 6456$#\n",
            "O: 6559$#\n",
            "\n",
            "X: 3011+9459$\n",
            "Y: 12470$\n",
            "O: 12488$\n",
            "\n",
            "Train: epoch 10\n",
            "Epoch: [10/15], step: [1/1250], loss: 1.137597\n",
            "Epoch: [10/15], step: [201/1250], loss: 1.087011\n",
            "Epoch: [10/15], step: [401/1250], loss: 1.152205\n",
            "Epoch: [10/15], step: [601/1250], loss: 1.080636\n",
            "Epoch: [10/15], step: [801/1250], loss: 1.159244\n",
            "Epoch: [10/15], step: [1001/1250], loss: 1.110929\n",
            "Epoch: [10/15], step: [1201/1250], loss: 1.106533\n",
            "Test: epoch 10 loss: 1.0477662\n",
            "X: 290+7089$#\n",
            "Y: 7379$#\n",
            "O: 7505$#\n",
            "\n",
            "X: 5010-1029$\n",
            "Y: 3981$#\n",
            "O: 3944$#\n",
            "\n",
            "X: 3778+1442$\n",
            "Y: 5220$#\n",
            "O: 5258$#\n",
            "\n",
            "Train: epoch 11\n",
            "Epoch: [11/15], step: [1/1250], loss: 1.065207\n",
            "Epoch: [11/15], step: [201/1250], loss: 1.110341\n",
            "Epoch: [11/15], step: [401/1250], loss: 1.092849\n",
            "Epoch: [11/15], step: [601/1250], loss: 1.080362\n",
            "Epoch: [11/15], step: [801/1250], loss: 1.152627\n",
            "Epoch: [11/15], step: [1001/1250], loss: 1.068785\n",
            "Epoch: [11/15], step: [1201/1250], loss: 1.047316\n",
            "Test: epoch 11 loss: 1.0723807\n",
            "X: 2622+465$#\n",
            "Y: 3087$#\n",
            "O: 3028$#\n",
            "\n",
            "X: 1556+7114$\n",
            "Y: 8670$#\n",
            "O: 8725$#\n",
            "\n",
            "X: 8665-9262$\n",
            "Y: -597$#\n",
            "O: -474$#\n",
            "\n",
            "Train: epoch 12\n",
            "Epoch: [12/15], step: [1/1250], loss: 1.082893\n",
            "Epoch: [12/15], step: [201/1250], loss: 1.032504\n",
            "Epoch: [12/15], step: [401/1250], loss: 1.076888\n",
            "Epoch: [12/15], step: [601/1250], loss: 1.079619\n",
            "Epoch: [12/15], step: [801/1250], loss: 1.086494\n",
            "Epoch: [12/15], step: [1001/1250], loss: 1.079047\n",
            "Epoch: [12/15], step: [1201/1250], loss: 1.132565\n",
            "Test: epoch 12 loss: 1.0103519\n",
            "X: 5641-9984$\n",
            "Y: -4343$\n",
            "O: -4277$\n",
            "\n",
            "X: 3441-6273$\n",
            "Y: -2832$\n",
            "O: -2777$\n",
            "\n",
            "X: 4138-7492$\n",
            "Y: -3354$\n",
            "O: -3277$\n",
            "\n",
            "Train: epoch 13\n",
            "Epoch: [13/15], step: [1/1250], loss: 1.028454\n",
            "Epoch: [13/15], step: [201/1250], loss: 1.015072\n",
            "Epoch: [13/15], step: [401/1250], loss: 1.023624\n",
            "Epoch: [13/15], step: [601/1250], loss: 1.022456\n",
            "Epoch: [13/15], step: [801/1250], loss: 1.062664\n",
            "Epoch: [13/15], step: [1001/1250], loss: 1.042100\n",
            "Epoch: [13/15], step: [1201/1250], loss: 1.027241\n",
            "Test: epoch 13 loss: 1.0068116\n",
            "X: 506-9043$#\n",
            "Y: -8537$\n",
            "O: -8561$\n",
            "\n",
            "X: 5032+652$#\n",
            "Y: 5684$#\n",
            "O: 5674$#\n",
            "\n",
            "X: 7366+8602$\n",
            "Y: 15968$\n",
            "O: 15999$\n",
            "\n",
            "Train: epoch 14\n",
            "Epoch: [14/15], step: [1/1250], loss: 1.030403\n",
            "Epoch: [14/15], step: [201/1250], loss: 1.022057\n",
            "Epoch: [14/15], step: [401/1250], loss: 1.011111\n",
            "Epoch: [14/15], step: [601/1250], loss: 0.994827\n",
            "Epoch: [14/15], step: [801/1250], loss: 1.009439\n",
            "Epoch: [14/15], step: [1001/1250], loss: 1.009546\n",
            "Epoch: [14/15], step: [1201/1250], loss: 0.977098\n",
            "Test: epoch 14 loss: 0.98523825\n",
            "X: 8964+139$#\n",
            "Y: 9103$#\n",
            "O: 9098$#\n",
            "\n",
            "X: 368+619$##\n",
            "Y: 987$##\n",
            "O: 927$##\n",
            "\n",
            "X: 6915+4368$\n",
            "Y: 11283$\n",
            "O: 11233$\n",
            "\n",
            "Train: epoch 15\n",
            "Epoch: [15/15], step: [1/1250], loss: 0.997243\n",
            "Epoch: [15/15], step: [201/1250], loss: 0.979026\n",
            "Epoch: [15/15], step: [401/1250], loss: 0.959214\n",
            "Epoch: [15/15], step: [601/1250], loss: 0.983633\n",
            "Epoch: [15/15], step: [801/1250], loss: 0.982150\n",
            "Epoch: [15/15], step: [1001/1250], loss: 0.972188\n",
            "Epoch: [15/15], step: [1201/1250], loss: 0.921564\n",
            "Test: epoch 15 loss: 0.9437725\n",
            "X: 2788+1177$\n",
            "Y: 3965$#\n",
            "O: 3964$#\n",
            "\n",
            "X: 2157-1926$\n",
            "Y: 231$##\n",
            "O: 208$##\n",
            "\n",
            "X: 9702-9270$\n",
            "Y: 432$##\n",
            "O: 470$##\n",
            "\n",
            "\n",
            "...training finished.\n",
            "Epoch: 1, MAE: 434.831750, Invalid numbers: 0\n",
            "Epoch: 2, MAE: 239.143100, Invalid numbers: 0\n",
            "Epoch: 3, MAE: 169.329150, Invalid numbers: 0\n",
            "Epoch: 4, MAE: 121.793950, Invalid numbers: 0\n",
            "Epoch: 5, MAE: 95.903000, Invalid numbers: 0\n",
            "Epoch: 6, MAE: 84.987550, Invalid numbers: 0\n",
            "Epoch: 7, MAE: 77.318500, Invalid numbers: 0\n",
            "Epoch: 8, MAE: 66.148350, Invalid numbers: 0\n",
            "Epoch: 9, MAE: 59.475200, Invalid numbers: 0\n",
            "Epoch: 10, MAE: 55.781700, Invalid numbers: 0\n",
            "Epoch: 11, MAE: 60.644600, Invalid numbers: 0\n",
            "Epoch: 12, MAE: 51.805450, Invalid numbers: 0\n",
            "Epoch: 13, MAE: 41.437650, Invalid numbers: 0\n",
            "Epoch: 14, MAE: 38.260400, Invalid numbers: 0\n",
            "Epoch: 15, MAE: 29.913550, Invalid numbers: 0\n"
          ],
          "name": "stdout"
        }
      ]
    }
  ]
}