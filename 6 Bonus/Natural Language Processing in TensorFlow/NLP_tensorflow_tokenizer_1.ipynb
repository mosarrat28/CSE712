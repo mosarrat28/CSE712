{
  "nbformat": 4,
  "nbformat_minor": 0,
  "metadata": {
    "colab": {
      "name": "NLP tensorflow tokenizer 1",
      "provenance": [],
      "collapsed_sections": [],
      "toc_visible": true
    },
    "kernelspec": {
      "display_name": "Python 3",
      "name": "python3"
    }
  },
  "cells": [
    {
      "cell_type": "code",
      "metadata": {
        "id": "fb-x_8Bvi5DK"
      },
      "source": [
        "import tensorflow as tf\n",
        "from tensorflow import keras\n",
        "from tensorflow.keras.preprocessing.text import Tokenizer\n",
        "from tensorflow.keras.preprocessing.sequence import pad_sequences\n"
      ],
      "execution_count": null,
      "outputs": []
    },
    {
      "cell_type": "code",
      "metadata": {
        "id": "o2fetdQSkV4n"
      },
      "source": [
        "sentences=['I love my dog extraordinarily','i love my amazing wife',\n",
        "           'Do you think my husband is amazing?']"
      ],
      "execution_count": null,
      "outputs": []
    },
    {
      "cell_type": "code",
      "metadata": {
        "colab": {
          "base_uri": "https://localhost:8080/"
        },
        "id": "FAzmMX8DkhkK",
        "outputId": "93f0ec6b-921b-49d4-c7f7-59cea32bb037"
      },
      "source": [
        "tokenizer= Tokenizer(num_words=100, oov_token='<OOV>')\n",
        "tokenizer.fit_on_texts(sentences)\n",
        "word_index=tokenizer.word_index\n",
        "print(word_index)"
      ],
      "execution_count": null,
      "outputs": [
        {
          "output_type": "stream",
          "text": [
            "{'<OOV>': 1, 'my': 2, 'i': 3, 'love': 4, 'amazing': 5, 'dog': 6, 'extraordinarily': 7, 'wife': 8, 'do': 9, 'you': 10, 'think': 11, 'husband': 12, 'is': 13}\n"
          ],
          "name": "stdout"
        }
      ]
    },
    {
      "cell_type": "code",
      "metadata": {
        "colab": {
          "base_uri": "https://localhost:8080/"
        },
        "id": "J05h7xBnCLkV",
        "outputId": "2d9936d2-5e29-4a79-9d5b-a4d4a6b6d53c"
      },
      "source": [
        "sequences= tokenizer.texts_to_sequences(sentences)\n",
        "print(sequences)"
      ],
      "execution_count": null,
      "outputs": [
        {
          "output_type": "stream",
          "text": [
            "[[3, 4, 2, 6, 7], [3, 4, 2, 5, 8], [9, 10, 11, 2, 12, 13, 5]]\n"
          ],
          "name": "stdout"
        }
      ]
    },
    {
      "cell_type": "code",
      "metadata": {
        "colab": {
          "base_uri": "https://localhost:8080/"
        },
        "id": "lm1a2ssdDw-V",
        "outputId": "8ad210f8-95a4-43fa-bcba-82a5c8d1be62"
      },
      "source": [
        "testdata=['I love my cat','I love my dog','i love my father very much']\n",
        "testseq=tokenizer.texts_to_sequences(testdata)\n",
        "print(testseq)"
      ],
      "execution_count": null,
      "outputs": [
        {
          "output_type": "stream",
          "text": [
            "[[3, 4, 2, 1], [3, 4, 2, 6], [3, 4, 2, 1, 1, 1]]\n"
          ],
          "name": "stdout"
        }
      ]
    },
    {
      "cell_type": "code",
      "metadata": {
        "colab": {
          "base_uri": "https://localhost:8080/"
        },
        "id": "tatnWwVeGHQ7",
        "outputId": "70a3977a-8a34-4064-c422-68fa94e26d5a"
      },
      "source": [
        "padded=pad_sequences(testseq, maxlen=10)\n",
        "print(padded)"
      ],
      "execution_count": null,
      "outputs": [
        {
          "output_type": "stream",
          "text": [
            "[[0 0 0 0 0 0 3 4 2 1]\n",
            " [0 0 0 0 0 0 3 4 2 6]\n",
            " [0 0 0 0 3 4 2 1 1 1]]\n"
          ],
          "name": "stdout"
        }
      ]
    }
  ]
}